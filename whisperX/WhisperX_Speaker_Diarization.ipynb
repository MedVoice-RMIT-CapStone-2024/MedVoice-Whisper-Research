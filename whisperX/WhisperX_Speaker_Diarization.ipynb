{
  "cells": [
    {
      "cell_type": "code",
      "execution_count": null,
      "metadata": {
        "colab": {
          "base_uri": "https://localhost:8080/"
        },
        "id": "JvNEfr0QCM3Y",
        "outputId": "c7072ff5-0548-4c79-f1c0-e66d0e483041"
      },
      "outputs": [],
      "source": [
        "!pip install --q git+https://github.com/m-bain/whisperx.git         "
      ]
    },
    {
      "cell_type": "code",
      "execution_count": null,
      "metadata": {
        "colab": {
          "base_uri": "https://localhost:8080/"
        },
        "id": "soOTmjq8CZJC",
        "outputId": "1fbb8b6f-f201-4e9a-d438-2a54afcdb2b0"
      },
      "outputs": [],
      "source": [
        "import whisperx\n",
        "import gc"
      ]
    },
    {
      "cell_type": "code",
      "execution_count": null,
      "metadata": {
        "id": "kjSL-lWFChmd"
      },
      "outputs": [],
      "source": [
        "device = \"cpu\" # change to \"cuda\" if your machine has nvidia\n",
        "batch_size = 4 # reduce if low on GPU mem\n",
        "compute_type = \"float16\" # change to \"int8\" if low on GPU mem (may reduce accuracy)"
      ]
    },
    {
      "cell_type": "code",
      "execution_count": null,
      "metadata": {
        "id": "KdDCIBQ8Cjxg"
      },
      "outputs": [],
      "source": [
        "audio_file = \"sam_altman_lex_podcast_367_short.wav\""
      ]
    },
    {
      "cell_type": "code",
      "execution_count": null,
      "metadata": {
        "id": "siDkCQLzCwrc"
      },
      "outputs": [],
      "source": [
        "audio = whisperx.load_audio(audio_file)"
      ]
    },
    {
      "cell_type": "code",
      "execution_count": null,
      "metadata": {
        "colab": {
          "base_uri": "https://localhost:8080/"
        },
        "id": "F787wQl5FKGE",
        "outputId": "725699d0-b5d0-4310-a4bc-198eac460673"
      },
      "outputs": [],
      "source": [
        "model = whisperx.load_model(\"large-v2\", device, compute_type=compute_type)\n"
      ]
    },
    {
      "cell_type": "code",
      "execution_count": null,
      "metadata": {
        "colab": {
          "base_uri": "https://localhost:8080/"
        },
        "id": "0zhXQwjnFEJ0",
        "outputId": "24fbd63b-22b1-4a7b-9bc4-f34288dbe7ea"
      },
      "outputs": [],
      "source": [
        "result = model.transcribe(audio, batch_size=batch_size)\n",
        "print(result[\"segments\"]) # before alignment\n",
        "\n",
        "# delete model if low on GPU resources\n",
        "# import gc; gc.collect(); torch.cuda.empty_cache(); del model\n",
        "\n",
        "# 2. Align whisper output\n",
        "model_a, metadata = whisperx.load_align_model(language_code=result[\"language\"], device=device)\n",
        "result = whisperx.align(result[\"segments\"], model_a, metadata, audio, device, return_char_alignments=False)\n"
      ]
    },
    {
      "cell_type": "code",
      "execution_count": null,
      "metadata": {
        "colab": {
          "base_uri": "https://localhost:8080/"
        },
        "id": "wUTgx25dFER0",
        "outputId": "a497ec56-1c3b-492f-801a-730867f6d461"
      },
      "outputs": [],
      "source": [
        "result"
      ]
    },
    {
      "cell_type": "code",
      "execution_count": null,
      "metadata": {
        "id": "Orht97xtC3fz"
      },
      "outputs": [],
      "source": [
        "diarize_model = whisperx.DiarizationPipeline(use_auth_token=\"HUGGINGFACE_TOKEN\",\n",
        "                                             device=device)"
      ]
    },
    {
      "cell_type": "code",
      "execution_count": null,
      "metadata": {
        "id": "ljaclGuEDq84"
      },
      "outputs": [],
      "source": [
        "diarize_segments = diarize_model(audio, min_speakers=2, max_speakers=2)"
      ]
    },
    {
      "cell_type": "code",
      "execution_count": null,
      "metadata": {
        "colab": {
          "base_uri": "https://localhost:8080/",
          "height": 423
        },
        "id": "Vd-W9K_EE-Xr",
        "outputId": "d75df017-2c6a-44e9-f760-a6bf2db78936"
      },
      "outputs": [],
      "source": [
        "diarize_segments"
      ]
    },
    {
      "cell_type": "code",
      "execution_count": null,
      "metadata": {
        "colab": {
          "base_uri": "https://localhost:8080/"
        },
        "id": "qiDOLVEkISl5",
        "outputId": "28cf06d2-cceb-42ee-c31a-bfb92f7d08fa"
      },
      "outputs": [],
      "source": [
        "diarize_segments.speaker.unique()"
      ]
    },
    {
      "cell_type": "code",
      "execution_count": null,
      "metadata": {
        "colab": {
          "base_uri": "https://localhost:8080/"
        },
        "id": "6r-T3_5REUAG",
        "outputId": "00718517-ddff-46d3-e45c-1d7f420bfeba"
      },
      "outputs": [],
      "source": [
        "result = whisperx.assign_word_speakers(diarize_segments, result)\n",
        "print(diarize_segments)\n",
        "print(result[\"segments\"]) # segments are now assigned speaker IDs"
      ]
    },
    {
      "cell_type": "code",
      "execution_count": null,
      "metadata": {
        "colab": {
          "base_uri": "https://localhost:8080/"
        },
        "id": "lORdTZFjEv-J",
        "outputId": "990b2844-9d01-4a72-8f5a-d1085559846e"
      },
      "outputs": [],
      "source": [
        "result"
      ]
    }
  ],
  "metadata": {
    "accelerator": "GPU",
    "colab": {
      "gpuType": "T4",
      "provenance": [],
      "toc_visible": true
    },
    "kernelspec": {
      "display_name": "Python 3",
      "name": "python3"
    },
    "language_info": {
      "name": "python"
    }
  },
  "nbformat": 4,
  "nbformat_minor": 0
}
